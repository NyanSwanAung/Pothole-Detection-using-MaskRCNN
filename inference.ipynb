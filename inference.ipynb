{
  "nbformat": 4,
  "nbformat_minor": 0,
  "metadata": {
    "accelerator": "GPU",
    "colab": {
      "name": "inference.ipynb",
      "private_outputs": true,
      "provenance": [],
      "collapsed_sections": [
        "o2qo4VAqZy3A",
        "ievScTRyadaz",
        "LBdjK2G5ywuc",
        "5jPUyQa4asKb",
        "BV4vOpK9iKYn",
        "cfn_tRFOWKMO",
        "WrjWt2d36nAa",
        "7ai8pLZZWKMS",
        "_1MVVTcLWKMW",
        "H0_1AGhrWKMc"
      ],
      "include_colab_link": true
    },
    "kernelspec": {
      "display_name": "Python 3",
      "language": "python",
      "name": "python3"
    },
    "language_info": {
      "codemirror_mode": {
        "name": "ipython",
        "version": 3
      },
      "file_extension": ".py",
      "mimetype": "text/x-python",
      "name": "python",
      "nbconvert_exporter": "python",
      "pygments_lexer": "ipython3",
      "version": "3.6.10"
    }
  },
  "cells": [
    {
      "cell_type": "markdown",
      "metadata": {
        "id": "view-in-github",
        "colab_type": "text"
      },
      "source": [
        "<a href=\"https://colab.research.google.com/github/NyanSwanAung/Pothole-Detection-using-MaskRCNN/blob/main/inference.ipynb\" target=\"_parent\"><img src=\"https://colab.research.google.com/assets/colab-badge.svg\" alt=\"Open In Colab\"/></a>"
      ]
    },
    {
      "cell_type": "markdown",
      "metadata": {
        "id": "h313AaG2Gkug"
      },
      "source": [
        "<h2 align=center> <b>MaskRCNN using Tensorflow Object Detection API (TF Version 2) </h2>"
      ]
    },
    {
      "cell_type": "markdown",
      "metadata": {
        "id": "SL2UxsobGoJB"
      },
      "source": [
        "Using pre-trained model to identify potholes in live webcam and videos. The model was trained on [COCO2017](https://cocodataset.org/) and fine-tuned with pothole dataset from this [repo](https://github.com/SamdenLepcha/Pothole-Detection-With-Mask-R-CNN/tree/master/place_in_object_detection/images).\n",
        "\n",
        "This pre-trained model is taken from [TensorFlow2 Object Detection Model Zoo](https://github.com/tensorflow/models/blob/master/research/object_detection/g3doc/tf2_detection_zoo.md)"
      ]
    },
    {
      "cell_type": "markdown",
      "metadata": {
        "id": "o2qo4VAqZy3A"
      },
      "source": [
        "# Prepare prerequisite "
      ]
    },
    {
      "cell_type": "markdown",
      "metadata": {
        "id": "ievScTRyadaz"
      },
      "source": [
        "### Install TensorFlow Object Detection API"
      ]
    },
    {
      "cell_type": "code",
      "metadata": {
        "id": "vifpEj69Z3MM"
      },
      "source": [
        "from IPython.display import clear_output\n",
        "# Clone the tensorflow models repository\n",
        "!git clone --depth 1 https://github.com/tensorflow/models\n",
        "\n",
        "# # API Installation \n",
        "!sudo apt install -y protobuf-compiler\n",
        "%cd models/research\n",
        "!protoc object_detection/protos/*.proto --python_out=.\n",
        "!cp object_detection/packages/tf2/setup.py .\n",
        "!python -m pip install .\n",
        "\n",
        "%cd ~/../content\n",
        "clear_output()"
      ],
      "execution_count": null,
      "outputs": []
    },
    {
      "cell_type": "markdown",
      "metadata": {
        "id": "LBdjK2G5ywuc"
      },
      "source": [
        "### Import Dependencies"
      ]
    },
    {
      "cell_type": "code",
      "metadata": {
        "id": "hV4P5gyTWKMI"
      },
      "source": [
        "import numpy as np\n",
        "import cv2\n",
        "import os\n",
        "import sys\n",
        "import time\n",
        "import tensorflow as tf\n",
        "import math\n",
        "import pathlib\n",
        "import math\n",
        "from collections import defaultdict\n",
        "from io import StringIO\n",
        "from matplotlib import pyplot as plt\n",
        "from PIL import Image\n",
        "from IPython.display import display\n",
        "\n",
        "from IPython.display import HTML\n",
        "from base64 import b64encode\n",
        "import time"
      ],
      "execution_count": null,
      "outputs": []
    },
    {
      "cell_type": "markdown",
      "metadata": {
        "id": "r5FNuiRPWKMN"
      },
      "source": [
        "Import the object detection module."
      ]
    },
    {
      "cell_type": "code",
      "metadata": {
        "id": "4-IMl4b6BdGO"
      },
      "source": [
        "from object_detection.utils import ops as utils_ops\n",
        "from object_detection.utils import label_map_util\n",
        "from object_detection.utils import visualization_utils as vis_util"
      ],
      "execution_count": null,
      "outputs": []
    },
    {
      "cell_type": "markdown",
      "metadata": {
        "id": "kzac2R5-GgJN"
      },
      "source": [
        ""
      ]
    },
    {
      "cell_type": "markdown",
      "metadata": {
        "id": "5jPUyQa4asKb"
      },
      "source": [
        "### Download my pre-trained inference graph or import yours"
      ]
    },
    {
      "cell_type": "code",
      "metadata": {
        "id": "IqZoMsyVbCuH"
      },
      "source": [
        "# Download from github release page \n",
        "!wget https://github.com/NyanSwanAung/Pothole-Detection-using-MaskRCNN/releases/download/v1.0/inference_graph.zip\n",
        "!unzip inference_graph.zip\n",
        "\n",
        "# Remove unecessary files\n",
        "!rm -r __MACOSX\n",
        "!rm -r inference_graph.zip\n"
      ],
      "execution_count": null,
      "outputs": []
    },
    {
      "cell_type": "markdown",
      "metadata": {
        "id": "BV4vOpK9iKYn"
      },
      "source": [
        "### Download test dataset and label map from github release page"
      ]
    },
    {
      "cell_type": "code",
      "metadata": {
        "id": "95UDvcTxiQof"
      },
      "source": [
        "# Test dataset\n",
        "!wget https://github.com/NyanSwanAung/Pothole-Detection-using-MaskRCNN/releases/download/v1.0/test.zip\n",
        "!unzip test.zip \n",
        "\n",
        "# Label Map\n",
        "!wget https://github.com/NyanSwanAung/Pothole-Detection-using-MaskRCNN/releases/download/v1.0/label.pbtxt\n",
        "\n",
        "# Remove unecessary files\n",
        "!rm -r __MACOSX\n",
        "!rm -r test.zip"
      ],
      "execution_count": null,
      "outputs": []
    },
    {
      "cell_type": "markdown",
      "metadata": {
        "id": "cfn_tRFOWKMO"
      },
      "source": [
        "# Model preparation "
      ]
    },
    {
      "cell_type": "markdown",
      "metadata": {
        "id": "WrjWt2d36nAa"
      },
      "source": [
        "## Setup Paths"
      ]
    },
    {
      "cell_type": "code",
      "metadata": {
        "id": "iFk4AVGHi8EV"
      },
      "source": [
        "IG_PATH = '/content/inference_graph'\n",
        "LABEL_MAP_PATH = '/content/label.pbtxt'\n",
        "TEST_IMG_DIR = '/content/test'\n",
        "TEST_VID_DIR = '/content/test/test_vid.mp4'"
      ],
      "execution_count": null,
      "outputs": []
    },
    {
      "cell_type": "markdown",
      "metadata": {
        "id": "7ai8pLZZWKMS"
      },
      "source": [
        "## Loader"
      ]
    },
    {
      "cell_type": "code",
      "metadata": {
        "id": "zm8xp-0eoItE"
      },
      "source": [
        "def load_model():\n",
        "    start = time.time()\n",
        "    model_dir = IG_PATH\n",
        "    model_dir = pathlib.Path(model_dir)/\"saved_model\"\n",
        "    model = tf.saved_model.load(str(model_dir))\n",
        "    end = time.time()\n",
        "    total = math.ceil(end-start)\n",
        "    print(f'It took {total}s to load model')\n",
        "    return model"
      ],
      "execution_count": null,
      "outputs": []
    },
    {
      "cell_type": "markdown",
      "metadata": {
        "id": "_1MVVTcLWKMW"
      },
      "source": [
        "## Loading label map and test dataset"
      ]
    },
    {
      "cell_type": "code",
      "metadata": {
        "id": "hDbpHkiWWKMX"
      },
      "source": [
        "# List of the strings that is used to add correct label for each box.\n",
        "category_index = label_map_util.create_category_index_from_labelmap(LABEL_MAP_PATH, use_display_name=True)"
      ],
      "execution_count": null,
      "outputs": []
    },
    {
      "cell_type": "markdown",
      "metadata": {
        "id": "oVU3U_J6IJVb"
      },
      "source": [
        "For the sake of simplicity we will test on 2 images:"
      ]
    },
    {
      "cell_type": "code",
      "metadata": {
        "id": "jG-zn5ykWKMd"
      },
      "source": [
        "# If you want to test the code with your images, just add path to the images to the TEST_IMAGE_PATHS.\n",
        "PATH_TO_TEST_IMAGES_DIR = pathlib.Path(TEST_IMG_DIR)\n",
        "TEST_IMAGE_PATHS = sorted(list(PATH_TO_TEST_IMAGES_DIR.glob(\"*.jpg\")))\n",
        "TEST_IMAGE_PATHS"
      ],
      "execution_count": null,
      "outputs": []
    },
    {
      "cell_type": "markdown",
      "metadata": {
        "id": "H0_1AGhrWKMc"
      },
      "source": [
        "# Detection"
      ]
    },
    {
      "cell_type": "markdown",
      "metadata": {
        "id": "f7aOtOlebK7h"
      },
      "source": [
        "Load an object detection model:"
      ]
    },
    {
      "cell_type": "code",
      "metadata": {
        "id": "1XNT0wxybKR6"
      },
      "source": [
        "detection_model = load_model()"
      ],
      "execution_count": null,
      "outputs": []
    },
    {
      "cell_type": "markdown",
      "metadata": {
        "id": "yN1AYfAEJIGp"
      },
      "source": [
        "Check the model's input signature, it expects a batch of 3-color images of type uint8:"
      ]
    },
    {
      "cell_type": "code",
      "metadata": {
        "id": "CK4cnry6wsHY"
      },
      "source": [
        "print(detection_model.signatures['serving_default'].inputs)"
      ],
      "execution_count": null,
      "outputs": []
    },
    {
      "cell_type": "markdown",
      "metadata": {
        "id": "Q8u3BjpMJXZF"
      },
      "source": [
        "And returns several outputs:"
      ]
    },
    {
      "cell_type": "code",
      "metadata": {
        "id": "oLSZpfaYwuSk",
        "scrolled": true,
        "tags": []
      },
      "source": [
        "detection_model.signatures['serving_default'].output_dtypes"
      ],
      "execution_count": null,
      "outputs": []
    },
    {
      "cell_type": "code",
      "metadata": {
        "id": "FZyKUJeuxvpT",
        "scrolled": true,
        "tags": []
      },
      "source": [
        "detection_model.signatures['serving_default'].output_shapes"
      ],
      "execution_count": null,
      "outputs": []
    },
    {
      "cell_type": "markdown",
      "metadata": {
        "id": "JP5qZ7sXJpwG"
      },
      "source": [
        "Add a wrapper function to call the model, and cleanup the outputs:"
      ]
    },
    {
      "cell_type": "code",
      "metadata": {
        "id": "ajmR_exWyN76"
      },
      "source": [
        "def run_inference_for_single_image(model, image):\n",
        "    \n",
        "    image = np.asarray(image)\n",
        "    \n",
        "    # The input needs to be a tensor, convert it using `tf.convert_to_tensor`.\n",
        "    input_tensor = tf.convert_to_tensor(image)\n",
        "    \n",
        "    # The model expects a batch of images, so add an axis with `tf.newaxis`.\n",
        "    input_tensor = input_tensor[tf.newaxis, ...]\n",
        "    \n",
        "    # Run inference\n",
        "    model_fn = model.signatures['serving_default']\n",
        "    output_dict = model_fn(input_tensor)\n",
        "    \n",
        "    # All outputs are batches tensors.\n",
        "    # Convert to numpy arrays, and take index [0] to remove the batch dimension.\n",
        "    # We're only interested in the first num_detections.\n",
        "    \n",
        "    num_detections = int(output_dict.pop('num_detections'))\n",
        "    need_detection_key = ['detection_classes','detection_boxes','detection_masks','detection_scores']\n",
        "    output_dict = {key: output_dict[key][0, :num_detections].numpy()\n",
        "                   for key in need_detection_key}\n",
        "    \n",
        "    output_dict['num_detections'] = num_detections\n",
        "    \n",
        "    # detection_classes should be ints.\n",
        "    output_dict['detection_classes'] = output_dict['detection_classes'].astype(np.int64)\n",
        "    \n",
        "    # Handle models with masks:\n",
        "    if 'detection_masks' in output_dict:\n",
        "        # Reframe the the bbox mask to the image size.\n",
        "        detection_masks_reframed = utils_ops.reframe_box_masks_to_image_masks(\n",
        "            tf.convert_to_tensor(output_dict['detection_masks']), output_dict['detection_boxes'],\n",
        "            image.shape[0], image.shape[1])\n",
        "        detection_masks_reframed = tf.cast(detection_masks_reframed > 0.5,\n",
        "                                           tf.uint8)\n",
        "        output_dict['detection_masks_reframed'] = detection_masks_reframed.numpy()\n",
        "\n",
        "    return output_dict"
      ],
      "execution_count": null,
      "outputs": []
    },
    {
      "cell_type": "markdown",
      "metadata": {
        "id": "z1wq0LVyMRR_"
      },
      "source": [
        "Run it on each test image and show the results:"
      ]
    },
    {
      "cell_type": "code",
      "metadata": {
        "id": "DWh_1zz6aqxs"
      },
      "source": [
        "def run_inference_image(model, image_path):\n",
        "  \n",
        "  start = time.time()\n",
        "  \n",
        "  # the array based representation of the image will be used later in order to prepare the\n",
        "  # result image with boxes and labels on it.\n",
        "  image_np = np.array(Image.open(image_path))\n",
        "  \n",
        "  # Actual detection.\n",
        "  output_dict = run_inference_for_single_image(model, image_np)\n",
        "  \n",
        "  # Visualization of the results of a detection.\n",
        "  vis_util.visualize_boxes_and_labels_on_image_array(\n",
        "      image_np,\n",
        "      output_dict['detection_boxes'],\n",
        "      output_dict['detection_classes'],\n",
        "      output_dict['detection_scores'],\n",
        "      category_index,\n",
        "      instance_masks=output_dict.get('detection_masks_reframed', None),\n",
        "      use_normalized_coordinates=True,\n",
        "      line_thickness=5)\n",
        "   \n",
        "  end = time.time()\n",
        "  total = math.ceil(end-start)\n",
        "  display(Image.fromarray(image_np))\n",
        "  print(f'It took {total}s for above image')"
      ],
      "execution_count": null,
      "outputs": []
    },
    {
      "cell_type": "code",
      "metadata": {
        "id": "jnJQWyIb_ewx"
      },
      "source": [
        "def run_inference_video(model, video_path):\n",
        "\n",
        "  cap = cv2.VideoCapture(video_path)\n",
        "\n",
        "  if cap.isOpened():\n",
        "      width = int(cap.get(cv2.CAP_PROP_FRAME_WIDTH))\n",
        "      height = int(cap.get(cv2.CAP_PROP_FRAME_HEIGHT))\n",
        "      res=(int(width), int(height))\n",
        "\n",
        "      # save detected video\n",
        "      # Initialize our video writer\n",
        "      fourcc = cv2.VideoWriter_fourcc(*\"XVID\") #codec\n",
        "      out = cv2.VideoWriter('detected_output.avi', fourcc, 20.0, res)\n",
        "      frame = None\n",
        "\n",
        "      while True:\n",
        "          try:\n",
        "              is_success, image_np = cap.read()\n",
        "          except cv2.error:\n",
        "              continue\n",
        "\n",
        "          if not is_success:\n",
        "              break\n",
        "\n",
        "          # Actual detection.\n",
        "          start = time.time()\n",
        "          image_np = np.array(image_np)\n",
        "            \n",
        "          # Actual detection.\n",
        "          output_dict = run_inference_for_single_image(model, image_np)\n",
        "\n",
        "          # Visualization of the results of a detection.\n",
        "          vis_util.visualize_boxes_and_labels_on_image_array(\n",
        "              image_np,\n",
        "              output_dict['detection_boxes'],\n",
        "              output_dict['detection_classes'],\n",
        "              output_dict['detection_scores'],\n",
        "              category_index,\n",
        "              instance_masks=output_dict.get('detection_masks_reframed', None),\n",
        "              use_normalized_coordinates=True,\n",
        "              line_thickness=8)\n",
        "          \n",
        "          end = time.time()\n",
        "          total = math.ceil(end-start)\n",
        "          print(f'{total}s per frame')\n",
        "          out.write(image_np)\n",
        "        \n",
        "      out.release() \n",
        "\n",
        "      # OPTIONAL: show last image\n",
        "      if frame:\n",
        "        cv2_imshow(frame)\n",
        "\n",
        "  cap.release()\n"
      ],
      "execution_count": null,
      "outputs": []
    },
    {
      "cell_type": "markdown",
      "metadata": {
        "id": "cbkPQG___vEb"
      },
      "source": [
        "# Inference"
      ]
    },
    {
      "cell_type": "code",
      "metadata": {
        "id": "3a5wMHN8WKMh"
      },
      "source": [
        "# Inference on Image\n",
        "for image_path in TEST_IMAGE_PATHS:\n",
        "  show_inference(detection_model, image_path)"
      ],
      "execution_count": null,
      "outputs": []
    },
    {
      "cell_type": "code",
      "metadata": {
        "id": "APZK0Ioz_3_t"
      },
      "source": [
        "# Inference on Video\n",
        "run_inference_video(detection_model, TEST_VID_DIR)"
      ],
      "execution_count": null,
      "outputs": []
    },
    {
      "cell_type": "code",
      "metadata": {
        "id": "UBeSKKekAU5P"
      },
      "source": [
        "# Show inference video in colab\n",
        "\n",
        "# detected video path\n",
        "input_path = 'detected_output.avi'\n",
        "\n",
        "# Compressed video path\n",
        "compressed_path = \"/content/compressed_output.mp4\"\n",
        "\n",
        "os.system(f\"ffmpeg -i {input_path} -vcodec libx264 {compressed_path}\")\n",
        "\n",
        "# Show video\n",
        "mp4 = open(compressed_path,'rb').read()\n",
        "data_url = \"data:video/mp4;base64,\" + b64encode(mp4).decode()\n",
        "HTML(\"\"\"\n",
        "<video width=400 controls>\n",
        "      <source src=\"%s\" type=\"video/mp4\">\n",
        "</video>\n",
        "\"\"\" % data_url)"
      ],
      "execution_count": null,
      "outputs": []
    }
  ]
}